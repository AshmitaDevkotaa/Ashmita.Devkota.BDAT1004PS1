{
 "cells": [
  {
   "cell_type": "markdown",
   "id": "3f29a4e1",
   "metadata": {},
   "source": [
    "## Question 1"
   ]
  },
  {
   "cell_type": "markdown",
   "id": "48cfdc3c",
   "metadata": {},
   "source": [
    "What data type is each of the following?\n",
    "5\n",
    "5.0\n",
    "5 > 1\n",
    "'5'\n",
    "5 * 2\n",
    "'5' * 2\n",
    "'5' + '2'\n",
    "5 / 2\n",
    "5 % 2\n",
    "{5, 2, 1}\n",
    "5 == 3\n",
    "Pi (the number)"
   ]
  },
  {
   "cell_type": "raw",
   "id": "7eb57a97",
   "metadata": {},
   "source": [
    "5 => Integer\n",
    "5.0 => Double\n",
    "5>1 is=> boolean\n",
    "'5' => string\n",
    "5*2 => integer\n",
    "'5'*2 => integer\n",
    "'5'+'2' => integer\n",
    "5/2 => double\n",
    "5 % 2 => integer\n",
    "int[] {5,2,1} => array integer\n",
    "5 == 2 => boolean\n",
    "PI => float"
   ]
  },
  {
   "cell_type": "markdown",
   "id": "08d55cb4",
   "metadata": {},
   "source": [
    "## Question 2 C#"
   ]
  },
  {
   "cell_type": "raw",
   "id": "0e7199c0",
   "metadata": {},
   "source": [
    "Write (and evaluate) C# expressions that answer these questions:\n",
    "a. How many letters are there in 'Supercalifragilisticexpialidocious'?\n",
    "b. Does 'Supercalifragilisticexpialidocious' contain 'ice' as a substring? \n",
    "c. Which of the following words is the longest:\n",
    "Supercalifragilisticexpialidocious, Honorificabilitudinitatibus, or\n",
    "Bababadalgharaghtakamminarronnkonn?\n",
    "d. Which composer comes first in the dictionary: 'Berlioz', 'Borodin', 'Brian',\n",
    "'Bartok', 'Bellini', 'Buxtehude', 'Bernstein'. Which one comes last?\n"
   ]
  },
  {
   "cell_type": "code",
   "execution_count": null,
   "id": "597606f9",
   "metadata": {},
   "outputs": [],
   "source": [
    "#a.How many letters are there in 'Supercalifragilisticexpialidocious'?\n",
    "string word = \"Supercalifragilisticexpialidocious\";\n",
    "int letterCount = word.Length;\n",
    "Console.WriteLine(\"The number of ltters in the word is:\" +letterCount);"
   ]
  },
  {
   "cell_type": "markdown",
   "id": "85afbdc6",
   "metadata": {},
   "source": [
    "The number of ltters in the word is:34"
   ]
  },
  {
   "cell_type": "code",
   "execution_count": null,
   "id": "59e10345",
   "metadata": {},
   "outputs": [],
   "source": [
    "# b. Does 'Supercalifragilisticexpialidocious' contain 'ice' as a substring? \n",
    "string word = \"Supercalifragilisticexpialidocious\";\n",
    "string substringToSearch = \"ice\";\n",
    "if (word.Contains(substringToSearch))\n",
    "{\n",
    "    Console.WriteLine(\"The word contains the substring 'ice'.\");\n",
    "}\n",
    "else\n",
    "{\n",
    "    Console.WriteLine(\"The word does not contain the substring 'ice'.\");\n",
    "}\n"
   ]
  },
  {
   "cell_type": "markdown",
   "id": "fbc7cc2f",
   "metadata": {},
   "source": [
    "The word contains the substring 'ice'."
   ]
  },
  {
   "cell_type": "code",
   "execution_count": null,
   "id": "15dcb6f8",
   "metadata": {},
   "outputs": [],
   "source": [
    "#c.Which of the following words is the longest:\n",
    "#Supercalifragilisticexpialidocious, Honorificabilitudinitatibus, or\n",
    "#Bababadalgharaghtakamminarronnkonn?\n",
    "\n",
    "string word1 = \"Supercalifragilisticexpialidocious\";\n",
    "string word2 = \"Honorificabilitudinitatibus\";\n",
    "string word3 = \"Bababadalgharaghtakamminarronnkonn\";\n",
    "int letterCount1 = word1.Length;\n",
    "int letterCount2 = word2.Length;\n",
    "int letterCount3= word3.Length;\n",
    "if (letterCount1 > letterCount2 && letterCount1 > letterCount3)\n",
    "{\n",
    "    Console.WriteLine(\"The longest word is: \" + word1);\n",
    "}\n",
    "else if (letterCount2 > letterCount1 && letterCount2 > letterCount3)\n",
    "{\n",
    "    Console.WriteLine(\"The longest word is: \" + word2);\n",
    "}\n",
    "else\n",
    "{\n",
    "    Console.WriteLine(\"The longest word is: \" + word3);\n",
    "}\n"
   ]
  },
  {
   "cell_type": "markdown",
   "id": "ad16d00b",
   "metadata": {},
   "source": [
    "The longest word is: Bababadalgharaghtakamminarronnkonn"
   ]
  },
  {
   "cell_type": "code",
   "execution_count": null,
   "id": "c86595bb",
   "metadata": {},
   "outputs": [],
   "source": [
    "# d. Which composer comes first in the dictionary: 'Berlioz', 'Borodin', 'Brian','Bartok', 'Bellini',\n",
    "#'Buxtehude', 'Bernstein'. Which one comes last? \n",
    "\n",
    "  string[] composers = { \"Berlioz\", \"Borodin\", \"Brian\", \"Bartok\", \"Bellini\", \"Buxtehude\", \"Bernstein\" };\n",
    "\n",
    "        Array.Sort(composers); // Sort the array in ascending order (dictionary order).\n",
    "\n",
    "        Console.WriteLine(\"First composer in the dictionary: \" + composers[0]);\n",
    "        Console.WriteLine(\"Last composer in the dictionary: \" + composers[composers.Length - 1]);\n",
    "    }\n",
    "\n"
   ]
  },
  {
   "cell_type": "raw",
   "id": "1de174b1",
   "metadata": {},
   "source": [
    "First word in dictionary is: Bartok\n",
    "Last word in dictionary is: Buxtehude"
   ]
  },
  {
   "cell_type": "markdown",
   "id": "a5c2b3b9",
   "metadata": {},
   "source": [
    "## Question 3 C#"
   ]
  },
  {
   "cell_type": "raw",
   "id": "e1adef15",
   "metadata": {},
   "source": [
    "Implement function triangleArea(a,b,c) that takes as input the lengths of the 3\n",
    "sides of a triangle and returns the area of the triangle. By Heron's formula, the area\n",
    "of a triangle with side lengths a, b, and c is\n",
    "s(s - a)(s -b)(s -c)\n",
    ", where\n",
    "s = (a+b+c)/2.\n",
    ">>> triangleArea(2,2,2)\n",
    "1.7320508075688772\n"
   ]
  },
  {
   "cell_type": "code",
   "execution_count": null,
   "id": "5b5854d1",
   "metadata": {},
   "outputs": [],
   "source": [
    "static double triangleArea(double a, double b, double c)\n",
    "{\n",
    "\n",
    "    double s = (a + b + c) / 2;\n",
    "\n",
    "    double area = Math.Sqrt(s * (s - a) * (s - b) * (s - c));\n",
    "\n",
    "    return area;\n",
    "}\n",
    "\n",
    "Console.WriteLine(triangleArea(2, 2, 2));\n"
   ]
  },
  {
   "cell_type": "markdown",
   "id": "602aa8da",
   "metadata": {},
   "source": [
    "1.7320508075688772"
   ]
  },
  {
   "cell_type": "markdown",
   "id": "62ab1bd2",
   "metadata": {},
   "source": [
    "## Question 4 C#"
   ]
  },
  {
   "cell_type": "raw",
   "id": "056faab1",
   "metadata": {},
   "source": [
    "Write a program in C# Sharp to separate odd and even integers in separate arrays.\n",
    "Go to the editor\n",
    "Test Data :\n",
    "Input the number of elements to be stored in the array :5\n",
    "Input 5 elements in the array :\n",
    "element - 0 : 25\n",
    "element - 1 : 47\n",
    "element - 2 : 42\n",
    "element - 3 : 56\n",
    "element - 4 : 32\n",
    "Expected Output:\n",
    "The Even elements are:\n",
    "42 56 32\n",
    "The Odd elements are :\n",
    "25 47"
   ]
  },
  {
   "cell_type": "code",
   "execution_count": null,
   "id": "d5708b11",
   "metadata": {},
   "outputs": [],
   "source": [
    "class Program\n",
    "{\n",
    "    static void Main()\n",
    "    {\n",
    "        Console.Write(\"Input the number of elements to be stored in the array: \");\n",
    "        int n = int.Parse(Console.ReadLine());\n",
    "\n",
    "        int[] originalArray = new int[n];\n",
    "        int[] evenArray = new int[n];\n",
    "        int[] oddArray = new int[n];\n",
    "\n",
    "        Console.WriteLine(\"Input \" + n + \" elements in the array:\");\n",
    "        for (int i = 0; i < n; i++)\n",
    "        {\n",
    "            Console.Write(\"element - \" + i + \" : \");\n",
    "            originalArray[i] = int.Parse(Console.ReadLine());\n",
    "        }\n",
    "\n",
    "        int evenCount = 0;\n",
    "        int oddCount = 0;\n",
    "\n",
    "    \n",
    "        foreach (int num in originalArray)\n",
    "        {\n",
    "            if (num % 2 == 0)\n",
    "            {\n",
    "                evenArray[evenCount] = num;\n",
    "                evenCount++;\n",
    "            }\n",
    "            else\n",
    "            {\n",
    "                oddArray[oddCount] = num;\n",
    "                oddCount++;\n",
    "            }\n",
    "        }\n",
    "\n",
    "    \n",
    "        Console.WriteLine(\"The Even elements are:\");\n",
    "        for (int i = 0; i < evenCount; i++)\n",
    "        {\n",
    "            Console.Write(evenArray[i] + \" \");\n",
    "        }\n",
    "        Console.WriteLine();\n",
    "\n",
    "    \n",
    "        Console.WriteLine(\"The Odd elements are:\");\n",
    "        for (int i = 0; i < oddCount; i++)\n",
    "        {\n",
    "            Console.Write(oddArray[i] + \" \");\n",
    "        }\n",
    "        Console.WriteLine();\n",
    "    }\n",
    "}\n"
   ]
  },
  {
   "cell_type": "raw",
   "id": "fe6ac5b3",
   "metadata": {},
   "source": [
    "Input the number of elements to be stored in the array: 5\n",
    "Input 5 elements in the array:\n",
    "element - 0 : 25\n",
    "element - 1 : 47\n",
    "element - 2 : 42\n",
    "element - 3 : 56\n",
    "element - 4 : 32\n",
    "The Even elements are:\n",
    "42 56 32\n",
    "The Odd elements are:\n",
    "25 47"
   ]
  },
  {
   "cell_type": "markdown",
   "id": "947e4039",
   "metadata": {},
   "source": [
    "## Question 5 C#"
   ]
  },
  {
   "cell_type": "raw",
   "id": "2e095b5f",
   "metadata": {},
   "source": [
    "a. Write a function inside(x,y,x1,y1,x2,y2) that returns True or False\n",
    "depending on whether the point (x,y) lies in the rectangle with lower left\n",
    "corner (x1,y1) and upper right corner (x2,y2).\n",
    ">>> inside(1,1,0,0,2,3)\n",
    "True\n",
    ">>> inside(-1,-1,0,0,2,3)\n",
    "False"
   ]
  },
  {
   "cell_type": "code",
   "execution_count": null,
   "id": "f4d8eed8",
   "metadata": {},
   "outputs": [],
   "source": [
    "bool inside(double x, double y, double x1, double y1, double x2, double y2)\n",
    "{\n",
    "    return x >= x1 && x <= x2 && y >= y1 && y <= y2;\n",
    "}\n",
    "\n",
    "Console.WriteLine(inside(1, 1, 0, 0, 2, 3));\n",
    "\n",
    "Console.WriteLine(inside(-1, -1, 0, 0, 2, 3));\n",
    "\n"
   ]
  },
  {
   "cell_type": "raw",
   "id": "92520254",
   "metadata": {},
   "source": [
    "True\n",
    "False"
   ]
  },
  {
   "cell_type": "raw",
   "id": "8cc11d3e",
   "metadata": {},
   "source": [
    "b. Use function inside() from part a. to write an expression that tests whether\n",
    "the point (1,1) lies in both of the following rectangles: one with lower left\n",
    "corner (0.3, 0.5) and upper right corner (1.1, 0.7) and the other with lower\n",
    "left corner (0.5, 0.2) and upper right corner (1.1, 2). "
   ]
  },
  {
   "cell_type": "code",
   "execution_count": null,
   "id": "cd20659a",
   "metadata": {},
   "outputs": [],
   "source": [
    "bool inside(double x, double y, double x1, double y1, double x2, double y2)\n",
    "{\n",
    "    return x >= x1 && x <= x2 && y >= y1 && y <= y2;\n",
    "}\n",
    "\n",
    "Console.WriteLine(inside(1, 1, 0, 0, 2, 3));\n",
    "\n",
    "Console.WriteLine(inside(-1, -1, 0, 0, 2, 3));\n",
    "\n",
    "bool rectangle1 = inside(1, 1, 0.3, 0.5, 1.1, 0.7);\n",
    "bool rectangle2 = inside(1, 1, 0.5, 0.2, 1.1, 2);\n",
    "\n",
    "# Check if the point is inside both rectangles\n",
    "if (rectangle1 && rectangle2)\n",
    "{\n",
    "    Console.WriteLine(\"The Point (1,1) lies in both of the rectangles\");\n",
    "}\n",
    "else\n",
    "{\n",
    "    Console.WriteLine(\"The Point (1,1) does not lies in both of the rectangles\");\n",
    "\n",
    "}"
   ]
  },
  {
   "cell_type": "markdown",
   "id": "742211d7",
   "metadata": {},
   "source": [
    "The Point (1,1) does not lies in both of the rectangles"
   ]
  },
  {
   "cell_type": "markdown",
   "id": "fa4bbc4d",
   "metadata": {},
   "source": [
    "## Question 6 Python"
   ]
  },
  {
   "cell_type": "raw",
   "id": "bc4801a6",
   "metadata": {},
   "source": [
    "16. You can turn a word into pig-Latin using the following two rules (simplified):\n",
    "• If the word starts with a consonant, move that letter to the end and append\n",
    "'ay'. For example, 'happy' becomes 'appyhay' and 'pencil' becomes 'encilpay'.\n",
    "• If the word starts with a vowel, simply append 'way' to the end of the word.\n",
    "For example, 'enter' becomes 'enterway' and 'other' becomes 'otherway' . For\n",
    "our purposes, there are 5 vowels: a, e, i, o, u (so we count y as a consonant).\n",
    "Write a function pig() that takes a word (i.e., a string) as input and returns its pigLatin form. Your function should still work if the input word contains upper case\n",
    "characters. Your output should always be lower case however.\n",
    ">>> pig('happy')\n",
    "'appyhay'\n",
    ">>> pig('Enter')\n",
    "'enterway"
   ]
  },
  {
   "cell_type": "code",
   "execution_count": 29,
   "id": "4cec8e14",
   "metadata": {},
   "outputs": [
    {
     "name": "stdout",
     "output_type": "stream",
     "text": [
      "Enter you word which you want to convert: Ashmita\n",
      "The pig latin for Ashmita is: ashmitaway\n"
     ]
    }
   ],
   "source": [
    "def pig(word):   \n",
    "    word = word.lower()   #converting the word in lowercase\n",
    "    vowels = {'a','e','i','o','u'}  #defining the vowels\n",
    "    \n",
    "    # checking if the word starts with a vowel\n",
    "    if word[0] in vowels:\n",
    "        pig_latin = word + 'way'\n",
    "    else:\n",
    "        \n",
    "        # if it starts with a consonant, move the first letter to the end and add 'ay'\n",
    "        pig_latin = word[1:]+word[0]+'ay'\n",
    "    return pig_latin\n",
    "\n",
    "#get user input to convert the word\n",
    "input_word = input(\"Enter you word which you want to convert: \")\n",
    "\n",
    "#call the pig() function to convert the word\n",
    "pig_latin_result = pig(input_word)\n",
    "\n",
    "#display the pig latin version of the input word\n",
    "print(\"The pig latin for {} is: {}\".format(input_word ,pig_latin_result))\n"
   ]
  },
  {
   "cell_type": "markdown",
   "id": "36ff1cd1",
   "metadata": {},
   "source": [
    "## Question 7 Python"
   ]
  },
  {
   "cell_type": "raw",
   "id": "3c0ccca2",
   "metadata": {},
   "source": [
    "File bloodtype1.txt records blood-types of patients (A, B, AB, O or OO) at a clinic.\n",
    "Write a function bldcount() that reads the file with name name and reports (i.e.,\n",
    "prints) how many patients there are in each bloodtype.\n",
    ">>> bldcount('bloodtype.txt')\n",
    "There are 10 patients of blood type A.\n",
    "There is one patient of blood type B.\n",
    "There are 10 patients of blood type AB.\n",
    "There are 12 patients of blood type O.\n",
    "There are no patients of blood type OO.\n"
   ]
  },
  {
   "cell_type": "code",
   "execution_count": 1,
   "id": "b783eef5",
   "metadata": {},
   "outputs": [
    {
     "name": "stdout",
     "output_type": "stream",
     "text": [
      "There are 15 of blood type A\n",
      "There are 1 of blood type B\n",
      "There are 13 of blood type AB\n",
      "There are 15 of blood type O\n",
      "There are 0 of blood type OO\n"
     ]
    }
   ],
   "source": [
    "def bldcount(filename):\n",
    "    blood_counts = {'A': 0, 'B': 0, 'AB': 0, 'O': 0, 'OO': 0}\n",
    "    \n",
    "    with open(filename, 'r') as file:\n",
    "        blood_types = file.read().split()\n",
    "        \n",
    "        for blood_type in blood_types:\n",
    "            if blood_type in blood_counts:\n",
    "                blood_counts[blood_type] += 1\n",
    "\n",
    "\n",
    "    for blood_type, count in blood_counts.items():\n",
    "        print(f'There are {count} of blood type {blood_type}')\n",
    "\n",
    "        \n",
    "bldcount('bloodtype1.txt')"
   ]
  },
  {
   "cell_type": "markdown",
   "id": "14385a80",
   "metadata": {},
   "source": [
    "## Question 8 Python"
   ]
  },
  {
   "cell_type": "raw",
   "id": "ac932c48",
   "metadata": {},
   "source": [
    "Write a function curconv() that takes as input:\n",
    "1. a currency represented using a string (e.g., 'JPY' for the Japanese Yen or\n",
    "'EUR' for the Euro)\n",
    "2. an amount\n",
    "and then converts and returns the amount in US dollars."
   ]
  },
  {
   "cell_type": "code",
   "execution_count": 3,
   "id": "e51587fb",
   "metadata": {},
   "outputs": [
    {
     "name": "stdout",
     "output_type": "stream",
     "text": [
      "122.96544\n",
      "1.241401\n"
     ]
    }
   ],
   "source": [
    "def convert_currency_to_usd(currency_code, amount):\n",
    "    exchange_rates = {}\n",
    "\n",
    "    # Read exchange rates from a file\n",
    "    with open('currencies.txt', 'r') as file:\n",
    "        lines = file.readlines()\n",
    "        for line in lines:\n",
    "            parts = line.split()\n",
    "            code = parts[0]\n",
    "            rate = float(parts[1])\n",
    "            exchange_rates[code] = rate\n",
    "\n",
    "    # Check if the provided currency code exists in the exchange rates database\n",
    "    if currency_code in exchange_rates:\n",
    "        usd_amount = amount * exchange_rates[currency_code]\n",
    "        return usd_amount\n",
    "    else:\n",
    "        return \"Currency code not found.\"\n",
    "\n",
    "# Example usages:\n",
    "print(convert_currency_to_usd('EUR', 100))  # Convert 100 EUR to USD\n",
    "print(convert_currency_to_usd('JPY', 100))  # Convert 100 JPY to USD\n"
   ]
  },
  {
   "cell_type": "markdown",
   "id": "5cdf777e",
   "metadata": {},
   "source": [
    "## Question 9 Python"
   ]
  },
  {
   "cell_type": "raw",
   "id": "f7d603b5",
   "metadata": {},
   "source": [
    "Each of the following will cause an exception (an error). Identify what type of\n",
    "exception each will cause.\n",
    "Trying to add incompatible variables, as in\n",
    "adding 6 + ‘a’\n",
    "Referring to the 12th item of a list that has only 10\n",
    "items\n",
    "Using a value that is out of range for a function’s\n",
    "input, such as calling math.sqrt(-1.0)\n",
    "Using an undeclared variable, such as print(x)\n",
    "when x has not been defined\n",
    "Trying to open a file that does not exist, such as\n",
    "mistyping the file name or looking in the wrong\n",
    "directory. "
   ]
  },
  {
   "cell_type": "code",
   "execution_count": 89,
   "id": "96134fd1",
   "metadata": {},
   "outputs": [
    {
     "ename": "TypeError",
     "evalue": "unsupported operand type(s) for +: 'int' and 'str'",
     "output_type": "error",
     "traceback": [
      "\u001b[1;31m---------------------------------------------------------------------------\u001b[0m",
      "\u001b[1;31mTypeError\u001b[0m                                 Traceback (most recent call last)",
      "Cell \u001b[1;32mIn[89], line 4\u001b[0m\n\u001b[0;32m      1\u001b[0m \u001b[38;5;66;03m#Trying to add incompatible variables, as in\u001b[39;00m\n\u001b[0;32m      2\u001b[0m \u001b[38;5;66;03m#adding 6 + ‘a’\u001b[39;00m\n\u001b[1;32m----> 4\u001b[0m \u001b[38;5;28mprint\u001b[39m(\u001b[38;5;241m6\u001b[39m\u001b[38;5;241m+\u001b[39m\u001b[38;5;124m'\u001b[39m\u001b[38;5;124ma\u001b[39m\u001b[38;5;124m'\u001b[39m)\n",
      "\u001b[1;31mTypeError\u001b[0m: unsupported operand type(s) for +: 'int' and 'str'"
     ]
    }
   ],
   "source": [
    "#Trying to add incompatible variables, as in\n",
    "#adding 6 + ‘a’\n",
    "\n",
    "print(6+'a')"
   ]
  },
  {
   "cell_type": "markdown",
   "id": "1160892a",
   "metadata": {},
   "source": [
    "Adding 6+'a' raised and error 'Type Error' because we are trying to add string and integer, which is not supported in Python.\n"
   ]
  },
  {
   "cell_type": "code",
   "execution_count": 90,
   "id": "68387893",
   "metadata": {},
   "outputs": [
    {
     "ename": "IndexError",
     "evalue": "list index out of range",
     "output_type": "error",
     "traceback": [
      "\u001b[1;31m---------------------------------------------------------------------------\u001b[0m",
      "\u001b[1;31mIndexError\u001b[0m                                Traceback (most recent call last)",
      "Cell \u001b[1;32mIn[90], line 4\u001b[0m\n\u001b[0;32m      1\u001b[0m \u001b[38;5;66;03m#Referring to the 12th item of a list that has only 10 items\u001b[39;00m\n\u001b[0;32m      3\u001b[0m myList \u001b[38;5;241m=\u001b[39m [\u001b[38;5;241m1\u001b[39m,\u001b[38;5;241m2\u001b[39m,\u001b[38;5;241m3\u001b[39m,\u001b[38;5;241m4\u001b[39m,\u001b[38;5;241m5\u001b[39m,\u001b[38;5;241m6\u001b[39m,\u001b[38;5;241m7\u001b[39m,\u001b[38;5;241m8\u001b[39m,\u001b[38;5;241m9\u001b[39m,\u001b[38;5;241m10\u001b[39m]\n\u001b[1;32m----> 4\u001b[0m item \u001b[38;5;241m=\u001b[39m myList[\u001b[38;5;241m11\u001b[39m]\n",
      "\u001b[1;31mIndexError\u001b[0m: list index out of range"
     ]
    }
   ],
   "source": [
    "#Referring to the 12th item of a list that has only 10 items\n",
    "\n",
    "myList = [1,2,3,4,5,6,7,8,9,10]\n",
    "item = myList[11]        #accessing to the 12th item which is index 11\n",
    "\n"
   ]
  },
  {
   "cell_type": "markdown",
   "id": "e83b152e",
   "metadata": {},
   "source": [
    "This raised an error 'Index Error' which means that we are trying to access an index that is out of range for the list. In python, indexing starts at 0,there are only 10 items which means that we can access the value of indices from range 0 to 9."
   ]
  },
  {
   "cell_type": "code",
   "execution_count": 92,
   "id": "0d513434",
   "metadata": {},
   "outputs": [
    {
     "ename": "ValueError",
     "evalue": "math domain error",
     "output_type": "error",
     "traceback": [
      "\u001b[1;31m---------------------------------------------------------------------------\u001b[0m",
      "\u001b[1;31mValueError\u001b[0m                                Traceback (most recent call last)",
      "Cell \u001b[1;32mIn[92], line 4\u001b[0m\n\u001b[0;32m      1\u001b[0m \u001b[38;5;66;03m# Using a value that is out of range for a function’s input, such as calling math.sqrt(-1.0)\u001b[39;00m\n\u001b[0;32m      3\u001b[0m \u001b[38;5;28;01mimport\u001b[39;00m \u001b[38;5;21;01mmath\u001b[39;00m\n\u001b[1;32m----> 4\u001b[0m result \u001b[38;5;241m=\u001b[39m math\u001b[38;5;241m.\u001b[39msqrt(\u001b[38;5;241m-\u001b[39m\u001b[38;5;241m1.0\u001b[39m)\n\u001b[0;32m      5\u001b[0m \u001b[38;5;28mprint\u001b[39m(result)\n",
      "\u001b[1;31mValueError\u001b[0m: math domain error"
     ]
    }
   ],
   "source": [
    "# Using a value that is out of range for a function’s input, such as calling math.sqrt(-1.0)\n",
    "\n",
    "import math\n",
    "result = math.sqrt(-1.0)\n",
    "print(result)\n"
   ]
  },
  {
   "cell_type": "markdown",
   "id": "e94136da",
   "metadata": {},
   "source": [
    "This raised an error \"Value Error\" meaning that math.sqrt functions doesnot accept negative values as input for square root calculations.\n"
   ]
  },
  {
   "cell_type": "code",
   "execution_count": 93,
   "id": "9ac2372e",
   "metadata": {},
   "outputs": [
    {
     "ename": "NameError",
     "evalue": "name 'x' is not defined",
     "output_type": "error",
     "traceback": [
      "\u001b[1;31m---------------------------------------------------------------------------\u001b[0m",
      "\u001b[1;31mNameError\u001b[0m                                 Traceback (most recent call last)",
      "Cell \u001b[1;32mIn[93], line 3\u001b[0m\n\u001b[0;32m      1\u001b[0m \u001b[38;5;66;03m#Using an undeclared variable, such as print(x) when x has not been defined \u001b[39;00m\n\u001b[1;32m----> 3\u001b[0m \u001b[38;5;28mprint\u001b[39m(x)\n",
      "\u001b[1;31mNameError\u001b[0m: name 'x' is not defined"
     ]
    }
   ],
   "source": [
    "#Using an undeclared variable, such as print(x) when x has not been defined \n",
    "\n",
    "print(x)"
   ]
  },
  {
   "cell_type": "markdown",
   "id": "bcd4f492",
   "metadata": {},
   "source": [
    "This raised an error \"Name Error\" because we are trying to use a variable \"x\" that hasnot been defined or not in scope."
   ]
  },
  {
   "cell_type": "code",
   "execution_count": 94,
   "id": "208c5203",
   "metadata": {},
   "outputs": [
    {
     "ename": "FileNotFoundError",
     "evalue": "[Errno 2] No such file or directory: 'example.txt'",
     "output_type": "error",
     "traceback": [
      "\u001b[1;31m---------------------------------------------------------------------------\u001b[0m",
      "\u001b[1;31mFileNotFoundError\u001b[0m                         Traceback (most recent call last)",
      "Cell \u001b[1;32mIn[94], line 3\u001b[0m\n\u001b[0;32m      1\u001b[0m \u001b[38;5;66;03m# Trying to open a file that does not exist, such as mistyping the file name or looking in the wrong directory\u001b[39;00m\n\u001b[1;32m----> 3\u001b[0m infile \u001b[38;5;241m=\u001b[39m \u001b[38;5;28mopen\u001b[39m(\u001b[38;5;124m'\u001b[39m\u001b[38;5;124mexample.txt\u001b[39m\u001b[38;5;124m'\u001b[39m,\u001b[38;5;124m'\u001b[39m\u001b[38;5;124mr\u001b[39m\u001b[38;5;124m'\u001b[39m)\n\u001b[0;32m      4\u001b[0m infile\u001b[38;5;241m.\u001b[39mclose()\n",
      "File \u001b[1;32m~\\anaconda3\\Lib\\site-packages\\IPython\\core\\interactiveshell.py:284\u001b[0m, in \u001b[0;36m_modified_open\u001b[1;34m(file, *args, **kwargs)\u001b[0m\n\u001b[0;32m    277\u001b[0m \u001b[38;5;28;01mif\u001b[39;00m file \u001b[38;5;129;01min\u001b[39;00m {\u001b[38;5;241m0\u001b[39m, \u001b[38;5;241m1\u001b[39m, \u001b[38;5;241m2\u001b[39m}:\n\u001b[0;32m    278\u001b[0m     \u001b[38;5;28;01mraise\u001b[39;00m \u001b[38;5;167;01mValueError\u001b[39;00m(\n\u001b[0;32m    279\u001b[0m         \u001b[38;5;124mf\u001b[39m\u001b[38;5;124m\"\u001b[39m\u001b[38;5;124mIPython won\u001b[39m\u001b[38;5;124m'\u001b[39m\u001b[38;5;124mt let you open fd=\u001b[39m\u001b[38;5;132;01m{\u001b[39;00mfile\u001b[38;5;132;01m}\u001b[39;00m\u001b[38;5;124m by default \u001b[39m\u001b[38;5;124m\"\u001b[39m\n\u001b[0;32m    280\u001b[0m         \u001b[38;5;124m\"\u001b[39m\u001b[38;5;124mas it is likely to crash IPython. If you know what you are doing, \u001b[39m\u001b[38;5;124m\"\u001b[39m\n\u001b[0;32m    281\u001b[0m         \u001b[38;5;124m\"\u001b[39m\u001b[38;5;124myou can use builtins\u001b[39m\u001b[38;5;124m'\u001b[39m\u001b[38;5;124m open.\u001b[39m\u001b[38;5;124m\"\u001b[39m\n\u001b[0;32m    282\u001b[0m     )\n\u001b[1;32m--> 284\u001b[0m \u001b[38;5;28;01mreturn\u001b[39;00m io_open(file, \u001b[38;5;241m*\u001b[39margs, \u001b[38;5;241m*\u001b[39m\u001b[38;5;241m*\u001b[39mkwargs)\n",
      "\u001b[1;31mFileNotFoundError\u001b[0m: [Errno 2] No such file or directory: 'example.txt'"
     ]
    }
   ],
   "source": [
    "# Trying to open a file that does not exist, such as mistyping the file name or looking in the wrong directory\n",
    "\n",
    "infile = open('example.txt','r')\n",
    "infile.close()"
   ]
  },
  {
   "cell_type": "markdown",
   "id": "c8fef101",
   "metadata": {},
   "source": [
    "This raised an error \"File Not Found\" meaning that the file named example.txt is not found or doesnot exists in the specified location."
   ]
  },
  {
   "cell_type": "markdown",
   "id": "016952c1",
   "metadata": {},
   "source": [
    "## Question 10 Python"
   ]
  },
  {
   "cell_type": "raw",
   "id": "d6899eba",
   "metadata": {},
   "source": [
    "Encryption is the process of hiding the meaning of a text by substituting letters in the message with other letters, according to some system. If the process is successful, no one but the intended recipient can understand the encrypted message. Cryptanalysis refers to attempts to undo the encryption, even if some details of the encryption are unknown (for example, if an encrypted message has been intercepted). The first step of cryptanalysis is often to build up a table of letter frequencies in the encrypted text. Assume that the string letters is already defined as 'abcdefghijklmnopqrstuvwxyz'. Write a function called frequencies() that takes a string as its only parameter, and returns a list of integers, showing the number of times each character appears in the text. Your function may ignore any characters that are not in letters.\n",
    ">>> frequencies('The quick red fox got bored and went home.')\n",
    "[1, 1, 1, 3, 5, 1, 1, 2, 1, 0, 1, 0, 1, 2, 4, 0, 1, 2, 0, 2,\n",
    "1, 0, 1, 1, 0, 0]\n",
    ">>> frequencies('apple')"
   ]
  },
  {
   "cell_type": "code",
   "execution_count": 105,
   "id": "861d58c9",
   "metadata": {},
   "outputs": [
    {
     "name": "stdout",
     "output_type": "stream",
     "text": [
      "Enter the text: Apple\n",
      "The frequencies of the letters are: [1, 0, 0, 0, 1, 0, 0, 0, 0, 0, 0, 1, 0, 0, 0, 2, 0, 0, 0, 0, 0, 0, 0, 0, 0, 0]\n"
     ]
    }
   ],
   "source": [
    "def frequencies(word):\n",
    "    letters = 'abcdefghijklmnopqrstuvwxyz'\n",
    "    \n",
    "    # initialize a list to store the character frequencies\n",
    "    char_freq = [0]*26   # as there are 26 characters in alphabet\n",
    "    \n",
    "    word = word.lower()  #convert to lowercase\n",
    "    \n",
    "    #interate through the characters in the input text \n",
    "    for char in word:\n",
    "        #check if the character is a valid letter\n",
    "        if char in letters:\n",
    "            char_index = letters.index(char)   # increment the corresponding frequency count\n",
    "            char_freq[char_index]+=1\n",
    "    return char_freq\n",
    "\n",
    "input_word = input(\"Enter the text: \")\n",
    "result = frequencies(input_word)\n",
    "\n",
    "print(f\"The frequencies of the letters are: {result}\")\n",
    "\n",
    "    "
   ]
  }
 ],
 "metadata": {
  "kernelspec": {
   "display_name": "Python 3 (ipykernel)",
   "language": "python",
   "name": "python3"
  },
  "language_info": {
   "codemirror_mode": {
    "name": "ipython",
    "version": 3
   },
   "file_extension": ".py",
   "mimetype": "text/x-python",
   "name": "python",
   "nbconvert_exporter": "python",
   "pygments_lexer": "ipython3",
   "version": "3.11.4"
  }
 },
 "nbformat": 4,
 "nbformat_minor": 5
}
